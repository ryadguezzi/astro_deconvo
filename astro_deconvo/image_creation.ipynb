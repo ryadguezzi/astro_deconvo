{
 "cells": [
  {
   "cell_type": "code",
   "execution_count": 2,
   "metadata": {},
   "outputs": [],
   "source": [
    "import numpy as np\n",
    "import matplotlib.pyplot as plt\n",
    "import cv2\n",
    "import numpy as np\n",
    "from scipy.signal import convolve2d"
   ]
  },
  {
   "cell_type": "markdown",
   "metadata": {},
   "source": [
    "générateur d'image"
   ]
  },
  {
   "cell_type": "code",
   "execution_count": 3,
   "metadata": {},
   "outputs": [],
   "source": [
    "def generate_star_field(image_shape=(256, 256, 3), num_stars=10, star_intensity=(0.5, 1), star_radius=3):\n",
    "    \"\"\"\n",
    "    Génère une image simulant un champ d'étoiles aléatoires.\n",
    "\n",
    "    Parameters:\n",
    "    - image_shape: tuple (hauteur, largeur), taille de l'image.\n",
    "    - num_stars: int, nombre d'étoiles à générer.\n",
    "    - star_intensity: tuple (min, max), plage d'intensités pour les étoiles (valeurs en niveaux de gris).\n",
    "    - star_radius: int, rayon des étoiles (en pixels).\n",
    "\n",
    "    Returns:\n",
    "    - star_field: numpy array, image du champ d'étoiles.\n",
    "    \"\"\"\n",
    "    # Crée une image noire\n",
    "    star_field = np.zeros(image_shape, dtype=np.float32)\n",
    "\n",
    "    # Génère des positions aléatoires pour les étoiles\n",
    "    height, width = image_shape[:2]\n",
    "    star_positions = np.random.randint(0, min(height, width), size=(num_stars, 2))\n",
    "\n",
    "    # Ajoute des étoiles au champ\n",
    "    for pos in star_positions:\n",
    "        y, x = pos\n",
    "        # Ajuste l'intensité et applique un rayon (disque 2D)\n",
    "        intensity = np.random.uniform(star_intensity[0], star_intensity[1])\n",
    "        y_coords, x_coords = np.ogrid[:height, :width]\n",
    "        distance = np.sqrt((y_coords - y)**2 + (x_coords - x)**2)\n",
    "        star_field[distance <= star_radius] += intensity\n",
    "\n",
    "    # Clip pour rester dans des valeurs valides\n",
    "    star_field = np.clip(star_field, 0, 255)\n",
    "\n",
    "    return star_field, star_positions"
   ]
  },
  {
   "cell_type": "markdown",
   "metadata": {},
   "source": [
    "Générateur de PSF gaussiennes"
   ]
  },
  {
   "cell_type": "code",
   "execution_count": 22,
   "metadata": {},
   "outputs": [],
   "source": [
    "def gaussian_ker(size, angle=0, magnitude=1, eccentricity=1, cov=None):\n",
    "    \"\"\"\n",
    "    Génère un noyau gaussien 2D de taille size avec une orientation, une magnitude et une excentricité.\n",
    "\n",
    "    Parameters:\n",
    "    - Si on indique la matrice de cov, les autres parametres sont inutiles\n",
    "    - angle: float, angle de l'ellipse en radians.\n",
    "    - magnitude: float, longueur de l'axe majeur.\n",
    "    - eccentricity: float, rapport des longueurs de l'axe mineur à l'axe majeur.\n",
    "    - size: int, taille du noyau (doit être impair).\n",
    "\n",
    "    Returns:\n",
    "    - kernel: numpy array, noyau gaussien 2D de taille size.\n",
    "    \"\"\"\n",
    "    assert size % 2 == 1, \"La taille du noyau doit être impaire.\"\n",
    "    \n",
    "    if cov is None:\n",
    "        # Longueurs des demi-axes\n",
    "        a = magnitude / 2\n",
    "        b = a / eccentricity\n",
    "        \n",
    "        # Matrice de rotation\n",
    "        cos_theta = np.cos(angle)\n",
    "        sin_theta = np.sin(angle)\n",
    "        R = np.array([[cos_theta, -sin_theta], [sin_theta, cos_theta]])\n",
    "        \n",
    "        # Matrice de covariance\n",
    "        D = np.diag([a**2, b**2])\n",
    "        cov = R.T @ D @ R\n",
    "        \n",
    "    x = np.arange(-(size // 2), size // 2 + 1)\n",
    "    y = np.arange(-(size // 2), size // 2 + 1)\n",
    "    x, y = np.meshgrid(x, y)\n",
    "    pos = np.dstack((x, y))\n",
    "    \n",
    "    kernel = np.exp(-0.5 * np.einsum('...k,kl,...l->...', pos, np.linalg.inv(cov), pos))\n",
    "    kernel /= kernel.sum()\n",
    "    return kernel\n",
    "\n",
    "\n",
    "# Exemple d'utilisation\n",
    "size = 255  # Taille du noyau\n",
    "\n",
    "psf0 = gaussian_ker(size, 0, 10, 1)\n",
    "psf1 = gaussian_ker(size, 0, 20, 2)\n",
    "psf2 = gaussian_ker(size, np.pi/3, 50, 5)"
   ]
  },
  {
   "cell_type": "markdown",
   "metadata": {},
   "source": [
    "Floutage uniforme"
   ]
  },
  {
   "cell_type": "code",
   "execution_count": 23,
   "metadata": {},
   "outputs": [],
   "source": [
    "def blur_image(image, psf, mode = \"same\"):\n",
    "   output = image.copy()\n",
    "   if len(image.shape) == 3:\n",
    "    for i in range(3):\n",
    "       output[:,:,i] = convolve2d(image[:,:,i], psf, mode=mode)\n",
    "   else:\n",
    "       output = convolve2d(image, psf, mode=mode)\n",
    "   \n",
    "   return output"
   ]
  },
  {
   "cell_type": "code",
   "execution_count": 24,
   "metadata": {},
   "outputs": [
    {
     "data": {
      "image/png": "[encoded data removed]",
      "text/plain": [
       "<Figure size 432x288 with 1 Axes>"
      ]
     },
     "metadata": {
      "needs_background": "light"
     },
     "output_type": "display_data"
    },
    {
     "data": {
      "image/png": "[encoded data removed]",
      "text/plain": [
       "<Figure size 432x288 with 1 Axes>"
      ]
     },
     "metadata": {
      "needs_background": "light"
     },
     "output_type": "display_data"
    },
    {
     "data": {
      "image/png": "[encoded data removed]",
      "text/plain": [
       "<Figure size 432x288 with 1 Axes>"
      ]
     },
     "metadata": {
      "needs_background": "light"
     },
     "output_type": "display_data"
    },
    {
     "data": {
      "image/png": "[encoded data removed]",
      "text/plain": [
       "<Figure size 432x288 with 1 Axes>"
      ]
     },
     "metadata": {
      "needs_background": "light"
     },
     "output_type": "display_data"
    },
    {
     "data": {
      "image/png": "[encoded data removed]",
      "text/plain": [
       "<Figure size 432x288 with 1 Axes>"
      ]
     },
     "metadata": {
      "needs_background": "light"
     },
     "output_type": "display_data"
    }
   ],
   "source": [
    "#visualisation des différentes psf sur une étoile isolée\n",
    "\n",
    "\n",
    "taille_test = 128\n",
    "image_test_support = np.zeros((taille_test, taille_test))\n",
    "image_cercle = cv2.circle(image_test_support, (taille_test//2, taille_test//2), 1, 1, -1)\n",
    "plt.imshow(image_cercle, cmap='gray')\n",
    "plt.axis(\"off\")\n",
    "plt.show()\n",
    "\n",
    "image_cercle0 = blur_image(image_cercle, psf0)\n",
    "plt.imshow(image_cercle0, cmap='gray')\n",
    "plt.axis(\"off\")\n",
    "plt.show()\n",
    "\n",
    "\n",
    "image_cercle1 = blur_image(image_cercle, psf1)\n",
    "plt.imshow(image_cercle1, cmap='gray')\n",
    "plt.axis(\"off\")\n",
    "plt.show()\n",
    "\n",
    "image_cercle2 = blur_image(image_cercle, psf2)\n",
    "plt.imshow(image_cercle2, cmap='gray')\n",
    "plt.axis(\"off\")\n",
    "\n",
    "plt.show()\n",
    "plt.imshow(psf2)\n",
    "plt.show()"
   ]
  },
  {
   "cell_type": "markdown",
   "metadata": {},
   "source": [
    "#### Estimateur de la PSF gaussienne (paramteres AME)"
   ]
  },
  {
   "cell_type": "code",
   "execution_count": 71,
   "metadata": {},
   "outputs": [
    {
     "name": "stdout",
     "output_type": "stream",
     "text": [
      "Angle estimé: -0.12 pi\n",
      "Magnitude estimée: 10.08\n",
      "Excentricité estimée: 1.00\n",
      "Vrai résultat : 0, 10, 1\n",
      "(-0.39269908169872425, 9.99999999999876, 1.0000000000001028)\n",
      "-------------------------------------------\n",
      "Angle estimé: 0.50 pi\n",
      "Magnitude estimée: 5.16\n",
      "Excentricité estimée: 1.95\n",
      "Vrai résultat : 0, 5, 2\n",
      "(1.5707963267947995, 4.999999999999273, 2.000000000000364)\n",
      "-------------------------------------------\n",
      "Angle estimé: -0.17 pi\n",
      "Magnitude estimée: 10.08\n",
      "Excentricité estimée: 4.89\n",
      "Vrai résultat : pi/3, 10, 5\n",
      "(-0.5235987796891222, 9.999999988661694, 4.99999958053759)\n",
      "-------------------------------------------\n",
      "Angle estimé: -0.25 pi\n",
      "Magnitude estimée: 3.26\n",
      "Excentricité estimée: 7.38\n",
      "Vrai résultat : pi/4, 3, 8\n"
     ]
    }
   ],
   "source": [
    "from skimage.measure import moments, moments_central\n",
    "from scipy import ndimage\n",
    "\n",
    "def estimate_gaussian_params(blurred_image, cov = False):\n",
    "    \"\"\"\n",
    "    Estime les paramètres du noyau gaussien à partir d'une image floue.\n",
    "    Si mode = cov, renvoie la matrice de cov sinon\n",
    "    Retourne angle, magnitude, eccentricité\n",
    "    \n",
    "    Attention : dans une image, la 1ère dimension correspond à y (lignes) et la 2ème à x (colonnes).\n",
    "    \"\"\"\n",
    "    # Calculer les moments centraux d'ordre 2\n",
    "    Mc = moments_central(blurred_image) \n",
    "    # plotter l'erreur \n",
    "    # On suppose que Mc[i, j] = E[(y - y_center)^i (x - x_center)^j]\n",
    "    # Ainsi, la variance en x (horizontal) est donnée par Mc[0, 2] et celle en y par Mc[2, 0]\n",
    "    \n",
    "    mu_xx = Mc[0, 2] / Mc[0, 0]  # variance selon x\n",
    "    mu_yy = Mc[2, 0] / Mc[0, 0]  # variance selon y\n",
    "    mu_xy = Mc[1, 1] / Mc[0, 0]  # covariance\n",
    "    \n",
    "    if cov:\n",
    "        return np.array([[mu_xx, mu_xy], [mu_xy, mu_yy]])\n",
    "\n",
    "    temp = np.sqrt((mu_xx - mu_yy)**2 + 4 * mu_xy**2)\n",
    "    lambda_major = (mu_xx + mu_yy + temp) / 2  # plus grande valeur propre\n",
    "    lambda_minor = (mu_xx + mu_yy - temp) / 2  # plus petite valeur propre\n",
    "    \n",
    "    # Calcul de l'angle : orientation de l'axe majeur par rapport à l'axe x\n",
    "    angle = 0.5 * np.arctan2(2 * mu_xy, mu_xx - mu_yy)\n",
    "    \n",
    "    # Récupérer les écart-types le long des axes principaux\n",
    "    sigma_major = np.sqrt(lambda_major)\n",
    "    sigma_minor = np.sqrt(lambda_minor)\n",
    "    \n",
    "    # D'après la construction, magnitude = 2*a avec a = sigma_major\n",
    "    magnitude = 2 * sigma_major\n",
    "    \n",
    "    # Eccentricity = b / a = sigma_minor / sigma_major\n",
    "    eccentricity = sigma_minor / sigma_major if sigma_major != 0 else 0\n",
    "    \n",
    "    return angle, magnitude*eccentricity, 1/eccentricity #EDIT : recorrigé pour les bonnes conventions\n",
    "\n",
    "\n",
    "# Test sur les images floues plus haut\n",
    "angle, magnitude, eccentricity = estimate_gaussian_params(image_cercle0)\n",
    "print(f\"Angle estimé: {angle/np.pi:.2f} pi\")\n",
    "print(f\"Magnitude estimée: {magnitude:.2f}\")\n",
    "print(f\"Excentricité estimée: {eccentricity:.2f}\")\n",
    "print('Vrai résultat : 0, 10, 1')\n",
    "print(estimate_gaussian_params(psf0))\n",
    "\n",
    "\n",
    "print('-------------------------------------------')\n",
    "\n",
    "angle, magnitude, eccentricity = estimate_gaussian_params(image_cercle1)\n",
    "print(f\"Angle estimé: {angle/np.pi:.2f} pi\")\n",
    "print(f\"Magnitude estimée: {magnitude:.2f}\")\n",
    "print(f\"Excentricité estimée: {eccentricity:.2f}\")\n",
    "print('Vrai résultat : 0, 5, 2')\n",
    "print(estimate_gaussian_params(psf1))\n",
    "\n",
    "print('-------------------------------------------')\n",
    "\n",
    "angle, magnitude, eccentricity = estimate_gaussian_params(image_cercle2)\n",
    "print(f\"Angle estimé: {angle/np.pi:.2f} pi\")\n",
    "print(f\"Magnitude estimée: {magnitude:.2f}\")\n",
    "print(f\"Excentricité estimée: {eccentricity:.2f}\")\n",
    "print('Vrai résultat : pi/3, 10, 5')\n",
    "print(estimate_gaussian_params(psf2))\n",
    "\n",
    "\n",
    "print('-------------------------------------------')\n",
    "\n",
    "psf3 = gaussian_ker(size, np.pi/4, 3, 8)\n",
    "image_cercle3 = blur_image(image_cercle, psf3)\n",
    "angle, magnitude, eccentricity = estimate_gaussian_params(image_cercle3)\n",
    "print(f\"Angle estimé: {angle/np.pi:.2f} pi\")\n",
    "print(f\"Magnitude estimée: {magnitude:.2f}\")\n",
    "print(f\"Excentricité estimée: {eccentricity:.2f}\")\n",
    "print('Vrai résultat : pi/4, 3, 8')\n",
    "\n"
   ]
  },
  {
   "cell_type": "markdown",
   "metadata": {},
   "source": [
    "voir si y'a assez d'etoiles isolées"
   ]
  },
  {
   "cell_type": "markdown",
   "metadata": {},
   "source": [
    "Test sur un champ d'étoiles généré"
   ]
  },
  {
   "cell_type": "code",
   "execution_count": 52,
   "metadata": {},
   "outputs": [
    {
     "data": {
      "image/png": "[encoded data removed]",
      "text/plain": [
       "<Figure size 648x648 with 1 Axes>"
      ]
     },
     "metadata": {
      "needs_background": "light"
     },
     "output_type": "display_data"
    }
   ],
   "source": [
    "star_field, star_pos = generate_star_field(image_shape= (64,64), num_stars= 10, star_radius=0)\n",
    "\n",
    "# Affichage de l'image\n",
    "plt.figure(figsize=(9, 9))\n",
    "plt.imshow(star_field, cmap='gray')\n",
    "plt.show()"
   ]
  },
  {
   "cell_type": "markdown",
   "metadata": {},
   "source": [
    "Convolution spatialement variante:  \n",
    "kernels sera un tableau de shape [img_h, img_w, ker_h, ker_w] tel que kernels[i,j]\n",
    "est le noyau de convolution au pixel i,j"
   ]
  },
  {
   "cell_type": "code",
   "execution_count": 53,
   "metadata": {},
   "outputs": [],
   "source": [
    "def spatially_variant_convolution(image, kernels):\n",
    "    img_h, img_w = image.shape\n",
    "    ker_h, ker_w = kernels.shape[2], kernels.shape[3]\n",
    "    pad_h, pad_w = ker_h // 2, ker_w // 2\n",
    "\n",
    "    # Pad the image\n",
    "    padded_image = np.pad(image, ((pad_h, pad_h), (pad_w, pad_w)), mode='constant')\n",
    "\n",
    "    # Extract patches: shape (img_h, img_w, ker_h, ker_w)\n",
    "    shape = (img_h, img_w, ker_h, ker_w)\n",
    "    strides = padded_image.strides[:2] + padded_image.strides[:2]\n",
    "    patches = np.lib.stride_tricks.as_strided(padded_image, shape=shape, strides=strides)\n",
    "\n",
    "    # Perform element-wise multiplication and summation\n",
    "    output = np.einsum('ijkl,ijkl->ij', patches, kernels)\n",
    "\n",
    "    return output"
   ]
  },
  {
   "cell_type": "markdown",
   "metadata": {},
   "source": [
    "Blur constant pour tester"
   ]
  },
  {
   "cell_type": "code",
   "execution_count": 54,
   "metadata": {},
   "outputs": [
    {
     "ename": "KeyboardInterrupt",
     "evalue": "",
     "output_type": "error",
     "traceback": [
      "\u001b[1;31m---------------------------------------------------------------------------\u001b[0m",
      "\u001b[1;31mKeyboardInterrupt\u001b[0m                         Traceback (most recent call last)",
      "\u001b[1;32m~\\AppData\\Local\\Temp/ipykernel_6924/1172489043.py\u001b[0m in \u001b[0;36m<module>\u001b[1;34m\u001b[0m\n\u001b[0;32m     11\u001b[0m \u001b[0mplt\u001b[0m\u001b[1;33m.\u001b[0m\u001b[0mtitle\u001b[0m\u001b[1;33m(\u001b[0m\u001b[1;34m'Original Star Field'\u001b[0m\u001b[1;33m)\u001b[0m\u001b[1;33m\u001b[0m\u001b[1;33m\u001b[0m\u001b[0m\n\u001b[0;32m     12\u001b[0m \u001b[0mplt\u001b[0m\u001b[1;33m.\u001b[0m\u001b[0msubplot\u001b[0m\u001b[1;33m(\u001b[0m\u001b[1;36m122\u001b[0m\u001b[1;33m)\u001b[0m\u001b[1;33m\u001b[0m\u001b[1;33m\u001b[0m\u001b[0m\n\u001b[1;32m---> 13\u001b[1;33m \u001b[0mplt\u001b[0m\u001b[1;33m.\u001b[0m\u001b[0mimshow\u001b[0m\u001b[1;33m(\u001b[0m\u001b[0mimage_blurred\u001b[0m\u001b[1;33m,\u001b[0m \u001b[0mcmap\u001b[0m\u001b[1;33m=\u001b[0m\u001b[1;34m'gray'\u001b[0m\u001b[1;33m)\u001b[0m\u001b[1;33m\u001b[0m\u001b[1;33m\u001b[0m\u001b[0m\n\u001b[0m\u001b[0;32m     14\u001b[0m \u001b[0mplt\u001b[0m\u001b[1;33m.\u001b[0m\u001b[0mtitle\u001b[0m\u001b[1;33m(\u001b[0m\u001b[1;34m'Blurred Star Field'\u001b[0m\u001b[1;33m)\u001b[0m\u001b[1;33m\u001b[0m\u001b[1;33m\u001b[0m\u001b[0m\n\u001b[0;32m     15\u001b[0m \u001b[0mplt\u001b[0m\u001b[1;33m.\u001b[0m\u001b[0mshow\u001b[0m\u001b[1;33m(\u001b[0m\u001b[1;33m)\u001b[0m\u001b[1;33m\u001b[0m\u001b[1;33m\u001b[0m\u001b[0m\n",
      "\u001b[1;32m~\\AppData\\Roaming\\Python\\Python310\\site-packages\\matplotlib\\pyplot.py\u001b[0m in \u001b[0;36mimshow\u001b[1;34m(X, cmap, norm, aspect, interpolation, alpha, vmin, vmax, colorizer, origin, extent, interpolation_stage, filternorm, filterrad, resample, url, data, **kwargs)\u001b[0m\n\u001b[0;32m   3588\u001b[0m     \u001b[1;33m**\u001b[0m\u001b[0mkwargs\u001b[0m\u001b[1;33m,\u001b[0m\u001b[1;33m\u001b[0m\u001b[1;33m\u001b[0m\u001b[0m\n\u001b[0;32m   3589\u001b[0m ) -> AxesImage:\n\u001b[1;32m-> 3590\u001b[1;33m     __ret = gca().imshow(\n\u001b[0m\u001b[0;32m   3591\u001b[0m         \u001b[0mX\u001b[0m\u001b[1;33m,\u001b[0m\u001b[1;33m\u001b[0m\u001b[1;33m\u001b[0m\u001b[0m\n\u001b[0;32m   3592\u001b[0m         \u001b[0mcmap\u001b[0m\u001b[1;33m=\u001b[0m\u001b[0mcmap\u001b[0m\u001b[1;33m,\u001b[0m\u001b[1;33m\u001b[0m\u001b[1;33m\u001b[0m\u001b[0m\n",
      "\u001b[1;32m~\\AppData\\Roaming\\Python\\Python310\\site-packages\\matplotlib\\__init__.py\u001b[0m in \u001b[0;36minner\u001b[1;34m(ax, data, *args, **kwargs)\u001b[0m\n\u001b[0;32m   1519\u001b[0m     \u001b[1;32mdef\u001b[0m \u001b[0minner\u001b[0m\u001b[1;33m(\u001b[0m\u001b[0max\u001b[0m\u001b[1;33m,\u001b[0m \u001b[1;33m*\u001b[0m\u001b[0margs\u001b[0m\u001b[1;33m,\u001b[0m \u001b[0mdata\u001b[0m\u001b[1;33m=\u001b[0m\u001b[1;32mNone\u001b[0m\u001b[1;33m,\u001b[0m \u001b[1;33m**\u001b[0m\u001b[0mkwargs\u001b[0m\u001b[1;33m)\u001b[0m\u001b[1;33m:\u001b[0m\u001b[1;33m\u001b[0m\u001b[1;33m\u001b[0m\u001b[0m\n\u001b[0;32m   1520\u001b[0m         \u001b[1;32mif\u001b[0m \u001b[0mdata\u001b[0m \u001b[1;32mis\u001b[0m \u001b[1;32mNone\u001b[0m\u001b[1;33m:\u001b[0m\u001b[1;33m\u001b[0m\u001b[1;33m\u001b[0m\u001b[0m\n\u001b[1;32m-> 1521\u001b[1;33m             return func(\n\u001b[0m\u001b[0;32m   1522\u001b[0m                 \u001b[0max\u001b[0m\u001b[1;33m,\u001b[0m\u001b[1;33m\u001b[0m\u001b[1;33m\u001b[0m\u001b[0m\n\u001b[0;32m   1523\u001b[0m                 \u001b[1;33m*\u001b[0m\u001b[0mmap\u001b[0m\u001b[1;33m(\u001b[0m\u001b[0mcbook\u001b[0m\u001b[1;33m.\u001b[0m\u001b[0msanitize_sequence\u001b[0m\u001b[1;33m,\u001b[0m \u001b[0margs\u001b[0m\u001b[1;33m)\u001b[0m\u001b[1;33m,\u001b[0m\u001b[1;33m\u001b[0m\u001b[1;33m\u001b[0m\u001b[0m\n",
      "\u001b[1;32m~\\AppData\\Roaming\\Python\\Python310\\site-packages\\matplotlib\\axes\\_axes.py\u001b[0m in \u001b[0;36mimshow\u001b[1;34m(self, X, cmap, norm, aspect, interpolation, alpha, vmin, vmax, colorizer, origin, extent, interpolation_stage, filternorm, filterrad, resample, url, **kwargs)\u001b[0m\n\u001b[0;32m   5974\u001b[0m             \u001b[0mself\u001b[0m\u001b[1;33m.\u001b[0m\u001b[0mset_aspect\u001b[0m\u001b[1;33m(\u001b[0m\u001b[0maspect\u001b[0m\u001b[1;33m)\u001b[0m\u001b[1;33m\u001b[0m\u001b[1;33m\u001b[0m\u001b[0m\n\u001b[0;32m   5975\u001b[0m \u001b[1;33m\u001b[0m\u001b[0m\n\u001b[1;32m-> 5976\u001b[1;33m         \u001b[0mim\u001b[0m\u001b[1;33m.\u001b[0m\u001b[0mset_data\u001b[0m\u001b[1;33m(\u001b[0m\u001b[0mX\u001b[0m\u001b[1;33m)\u001b[0m\u001b[1;33m\u001b[0m\u001b[1;33m\u001b[0m\u001b[0m\n\u001b[0m\u001b[0;32m   5977\u001b[0m         \u001b[0mim\u001b[0m\u001b[1;33m.\u001b[0m\u001b[0mset_alpha\u001b[0m\u001b[1;33m(\u001b[0m\u001b[0malpha\u001b[0m\u001b[1;33m)\u001b[0m\u001b[1;33m\u001b[0m\u001b[1;33m\u001b[0m\u001b[0m\n\u001b[0;32m   5978\u001b[0m         \u001b[1;32mif\u001b[0m \u001b[0mim\u001b[0m\u001b[1;33m.\u001b[0m\u001b[0mget_clip_path\u001b[0m\u001b[1;33m(\u001b[0m\u001b[1;33m)\u001b[0m \u001b[1;32mis\u001b[0m \u001b[1;32mNone\u001b[0m\u001b[1;33m:\u001b[0m\u001b[1;33m\u001b[0m\u001b[1;33m\u001b[0m\u001b[0m\n",
      "\u001b[1;32m~\\AppData\\Roaming\\Python\\Python310\\site-packages\\matplotlib\\image.py\u001b[0m in \u001b[0;36mset_data\u001b[1;34m(self, A)\u001b[0m\n\u001b[0;32m    683\u001b[0m         \u001b[1;32mif\u001b[0m \u001b[0misinstance\u001b[0m\u001b[1;33m(\u001b[0m\u001b[0mA\u001b[0m\u001b[1;33m,\u001b[0m \u001b[0mPIL\u001b[0m\u001b[1;33m.\u001b[0m\u001b[0mImage\u001b[0m\u001b[1;33m.\u001b[0m\u001b[0mImage\u001b[0m\u001b[1;33m)\u001b[0m\u001b[1;33m:\u001b[0m\u001b[1;33m\u001b[0m\u001b[1;33m\u001b[0m\u001b[0m\n\u001b[0;32m    684\u001b[0m             \u001b[0mA\u001b[0m \u001b[1;33m=\u001b[0m \u001b[0mpil_to_array\u001b[0m\u001b[1;33m(\u001b[0m\u001b[0mA\u001b[0m\u001b[1;33m)\u001b[0m  \u001b[1;31m# Needed e.g. to apply png palette.\u001b[0m\u001b[1;33m\u001b[0m\u001b[1;33m\u001b[0m\u001b[0m\n\u001b[1;32m--> 685\u001b[1;33m         \u001b[0mself\u001b[0m\u001b[1;33m.\u001b[0m\u001b[0m_A\u001b[0m \u001b[1;33m=\u001b[0m \u001b[0mself\u001b[0m\u001b[1;33m.\u001b[0m\u001b[0m_normalize_image_array\u001b[0m\u001b[1;33m(\u001b[0m\u001b[0mA\u001b[0m\u001b[1;33m)\u001b[0m\u001b[1;33m\u001b[0m\u001b[1;33m\u001b[0m\u001b[0m\n\u001b[0m\u001b[0;32m    686\u001b[0m         \u001b[0mself\u001b[0m\u001b[1;33m.\u001b[0m\u001b[0m_imcache\u001b[0m \u001b[1;33m=\u001b[0m \u001b[1;32mNone\u001b[0m\u001b[1;33m\u001b[0m\u001b[1;33m\u001b[0m\u001b[0m\n\u001b[0;32m    687\u001b[0m         \u001b[0mself\u001b[0m\u001b[1;33m.\u001b[0m\u001b[0mstale\u001b[0m \u001b[1;33m=\u001b[0m \u001b[1;32mTrue\u001b[0m\u001b[1;33m\u001b[0m\u001b[1;33m\u001b[0m\u001b[0m\n",
      "\u001b[1;32m~\\AppData\\Roaming\\Python\\Python310\\site-packages\\matplotlib\\image.py\u001b[0m in \u001b[0;36m_normalize_image_array\u001b[1;34m(A)\u001b[0m\n\u001b[0;32m    644\u001b[0m         \u001b[0mImage\u001b[0m \u001b[0msubclasses\u001b[0m\u001b[1;33m.\u001b[0m\u001b[1;33m\u001b[0m\u001b[1;33m\u001b[0m\u001b[0m\n\u001b[0;32m    645\u001b[0m         \"\"\"\n\u001b[1;32m--> 646\u001b[1;33m         \u001b[0mA\u001b[0m \u001b[1;33m=\u001b[0m \u001b[0mcbook\u001b[0m\u001b[1;33m.\u001b[0m\u001b[0msafe_masked_invalid\u001b[0m\u001b[1;33m(\u001b[0m\u001b[0mA\u001b[0m\u001b[1;33m,\u001b[0m \u001b[0mcopy\u001b[0m\u001b[1;33m=\u001b[0m\u001b[1;32mTrue\u001b[0m\u001b[1;33m)\u001b[0m\u001b[1;33m\u001b[0m\u001b[1;33m\u001b[0m\u001b[0m\n\u001b[0m\u001b[0;32m    647\u001b[0m         \u001b[1;32mif\u001b[0m \u001b[0mA\u001b[0m\u001b[1;33m.\u001b[0m\u001b[0mdtype\u001b[0m \u001b[1;33m!=\u001b[0m \u001b[0mnp\u001b[0m\u001b[1;33m.\u001b[0m\u001b[0muint8\u001b[0m \u001b[1;32mand\u001b[0m \u001b[1;32mnot\u001b[0m \u001b[0mnp\u001b[0m\u001b[1;33m.\u001b[0m\u001b[0mcan_cast\u001b[0m\u001b[1;33m(\u001b[0m\u001b[0mA\u001b[0m\u001b[1;33m.\u001b[0m\u001b[0mdtype\u001b[0m\u001b[1;33m,\u001b[0m \u001b[0mfloat\u001b[0m\u001b[1;33m,\u001b[0m \u001b[1;34m\"same_kind\"\u001b[0m\u001b[1;33m)\u001b[0m\u001b[1;33m:\u001b[0m\u001b[1;33m\u001b[0m\u001b[1;33m\u001b[0m\u001b[0m\n\u001b[0;32m    648\u001b[0m             raise TypeError(f\"Image data of dtype {A.dtype} cannot be \"\n",
      "\u001b[1;32m~\\AppData\\Roaming\\Python\\Python310\\site-packages\\matplotlib\\cbook.py\u001b[0m in \u001b[0;36msafe_masked_invalid\u001b[1;34m(x, copy)\u001b[0m\n\u001b[0;32m    682\u001b[0m \u001b[1;33m\u001b[0m\u001b[0m\n\u001b[0;32m    683\u001b[0m \u001b[1;32mdef\u001b[0m \u001b[0msafe_masked_invalid\u001b[0m\u001b[1;33m(\u001b[0m\u001b[0mx\u001b[0m\u001b[1;33m,\u001b[0m \u001b[0mcopy\u001b[0m\u001b[1;33m=\u001b[0m\u001b[1;32mFalse\u001b[0m\u001b[1;33m)\u001b[0m\u001b[1;33m:\u001b[0m\u001b[1;33m\u001b[0m\u001b[1;33m\u001b[0m\u001b[0m\n\u001b[1;32m--> 684\u001b[1;33m     \u001b[0mx\u001b[0m \u001b[1;33m=\u001b[0m \u001b[0mnp\u001b[0m\u001b[1;33m.\u001b[0m\u001b[0marray\u001b[0m\u001b[1;33m(\u001b[0m\u001b[0mx\u001b[0m\u001b[1;33m,\u001b[0m \u001b[0msubok\u001b[0m\u001b[1;33m=\u001b[0m\u001b[1;32mTrue\u001b[0m\u001b[1;33m,\u001b[0m \u001b[0mcopy\u001b[0m\u001b[1;33m=\u001b[0m\u001b[0mcopy\u001b[0m\u001b[1;33m)\u001b[0m\u001b[1;33m\u001b[0m\u001b[1;33m\u001b[0m\u001b[0m\n\u001b[0m\u001b[0;32m    685\u001b[0m     \u001b[1;32mif\u001b[0m \u001b[1;32mnot\u001b[0m \u001b[0mx\u001b[0m\u001b[1;33m.\u001b[0m\u001b[0mdtype\u001b[0m\u001b[1;33m.\u001b[0m\u001b[0misnative\u001b[0m\u001b[1;33m:\u001b[0m\u001b[1;33m\u001b[0m\u001b[1;33m\u001b[0m\u001b[0m\n\u001b[0;32m    686\u001b[0m         \u001b[1;31m# If we have already made a copy, do the byteswap in place, else make a\u001b[0m\u001b[1;33m\u001b[0m\u001b[1;33m\u001b[0m\u001b[0m\n",
      "\u001b[1;31mKeyboardInterrupt\u001b[0m: "
     ]
    },
    {
     "data": {
      "image/png": "[encoded data removed]",
      "text/plain": [
       "<Figure size 720x360 with 2 Axes>"
      ]
     },
     "metadata": {
      "needs_background": "light"
     },
     "output_type": "display_data"
    }
   ],
   "source": [
    "kersize = 15\n",
    "psftest = gaussian_ker(kersize, 0, 3, 1)\n",
    "\n",
    "kernels_test = np.zeros(star_field.shape + (kersize, kersize))\n",
    "kernels_test[:,:] = psftest\n",
    "image_blurred = spatially_variant_convolution(star_field, kernels_test)\n",
    "\n",
    "plt.figure(figsize=(10, 5))\n",
    "plt.subplot(121)\n",
    "plt.imshow(star_field, cmap='gray')\n",
    "plt.title('Original Star Field')\n",
    "plt.subplot(122)\n",
    "plt.imshow(image_blurred, cmap='gray')\n",
    "plt.title('Blurred Star Field')\n",
    "plt.show()"
   ]
  },
  {
   "cell_type": "code",
   "execution_count": null,
   "metadata": {},
   "outputs": [],
   "source": [
    "def params_to_cov():\n",
    "    pass"
   ]
  },
  {
   "cell_type": "code",
   "execution_count": null,
   "metadata": {},
   "outputs": [
    {
     "data": {
      "image/png": "[encoded data removed]",
      "text/plain": [
       "<Figure size 936x432 with 2 Axes>"
      ]
     },
     "metadata": {
      "needs_background": "light"
     },
     "output_type": "display_data"
    }
   ],
   "source": [
    "def example_generate_variable_kernel(image_shape, kersize):\n",
    "    img_h, img_w = image_shape\n",
    "    kernels = np.zeros((img_h, img_w, kersize, kersize))\n",
    "\n",
    "    for i in range(img_h):\n",
    "        for j in range(img_w):\n",
    "            angle = np.arctan2(i, j) + np.pi/2\n",
    "            magnitude = 0.3*np.sqrt(i**2 + j**2)/img_h + 1\n",
    "            eccentricity = (i**2 + j**2)/img_h**2 + 1\n",
    "            kernels[i, j] = gaussian_ker(kersize, angle, magnitude, eccentricity)\n",
    "\n",
    "    return kernels\n",
    "\n",
    "# Generate the variable kernel\n",
    "image_shape = star_field.shape\n",
    "kersize = 15\n",
    "variable_kernels = example_generate_variable_kernel(image_shape, kersize)\n",
    "\n",
    "\n",
    "# Apply the spatially variant convolution\n",
    "image_blurred_variable = spatially_variant_convolution(star_field, variable_kernels)\n",
    "\n",
    "# Display the result\n",
    "plt.figure(figsize=(13, 6))\n",
    "plt.subplot(121)\n",
    "plt.imshow(star_field, cmap='gray')\n",
    "plt.subplot(122)\n",
    "plt.imshow(image_blurred_variable, cmap='gray')\n",
    "plt.show()"
   ]
  },
  {
   "cell_type": "markdown",
   "metadata": {},
   "source": [
    "kriging sklearn gaussian process"
   ]
  },
  {
   "cell_type": "markdown",
   "metadata": {},
   "source": [
    "wiener devrait marcher\n",
    "\n",
    "clara:\n",
    "wiener par patch\n",
    "richardson lucy"
   ]
  },
  {
   "cell_type": "markdown",
   "metadata": {},
   "source": [
    "Interpolateur de PSF (caractérisées par leurs matrices de cov)"
   ]
  },
  {
   "cell_type": "code",
   "execution_count": null,
   "metadata": {},
   "outputs": [],
   "source": [
    "from sklearn.gaussian_process import GaussianProcessRegressor\n",
    "from sklearn.gaussian_process.kernels import RBF, WhiteKernel\n",
    "from scipy.linalg import logm, expm\n",
    "\n",
    "def interpolate_cov_field(known_positions, known_covariances, image_shape):\n",
    "    \"\"\"\n",
    "    Interpolate Gaussian blur kernels across an image using Gaussian Process Regression.\n",
    "    \n",
    "    Parameters:\n",
    "    - known_positions: array (n_samples, 2) coordinates of stars\n",
    "    - known_covariances: array (n_samples, 2, 2) covariance at each star\n",
    "    - image_shape: (height, width)\n",
    "    \n",
    "    Returns:\n",
    "    - interpolated_covariances: array of shape (height, width, 2, 2)\n",
    "    \"\"\"\n",
    "    # Convert covariance matrices to their matrix logarithm\n",
    "    # This maps SPD matrices to the space of symmetric matrices\n",
    "    log_covs = np.array([logm(cov) for cov in known_covariances])\n",
    "    \n",
    "    # Create target positions grid\n",
    "    y, x = np.meshgrid(np.arange(image_shape[0]), np.arange(image_shape[1]), indexing='ij')\n",
    "    target_positions = np.column_stack((y.ravel(), x.ravel()))\n",
    "    \n",
    "    # Define kernel with length scale related to image size\n",
    "    length_scale = image_shape[0] #For now kernels are the same lengths as the image...\n",
    "    kernel = RBF(length_scale=length_scale) + WhiteKernel(noise_level=1e-5)\n",
    "    #A FAIRE : peut être adapter le noise_level au bruit mesuré dans l'image\n",
    "    \n",
    "    # Fit GP for the entire matrix logarithm\n",
    "    gp = GaussianProcessRegressor(kernel=kernel)\n",
    "    gp.fit(known_positions, log_covs.reshape(len(known_positions), -1))\n",
    "    \n",
    "    # Predict and reshape back to covariance matrices\n",
    "    log_predictions = gp.predict(target_positions)\n",
    "    log_predictions = log_predictions.reshape(-1, 2, 2)\n",
    "    \n",
    "    # Convert back to covariance matrices using matrix exponential\n",
    "    interpolated_covariances = np.array([expm(log_pred) for log_pred in log_predictions])\n",
    "    \n",
    "    # Reshape to image dimensions\n",
    "    interpolated_covariances = interpolated_covariances.reshape(\n",
    "        image_shape[0], image_shape[1], 2, 2)\n",
    "    \n",
    "    return interpolated_covariances"
   ]
  },
  {
   "cell_type": "code",
   "execution_count": null,
   "metadata": {},
   "outputs": [
    {
     "name": "stderr",
     "output_type": "stream",
     "text": [
      "c:\\Users\\guezz\\AppData\\Local\\Programs\\Python\\Python310\\lib\\site-packages\\sklearn\\gaussian_process\\kernels.py:442: ConvergenceWarning: The optimal value found for dimension 0 of parameter k2__noise_level is close to the specified lower bound 1e-05. Decreasing the bound and calling fit again may find a better value.\n",
      "  warnings.warn(\n"
     ]
    }
   ],
   "source": [
    "# TEST de l'interpolation\n",
    "\n",
    "def example2_generate_variable_kernel(image_shape, kersize):\n",
    "    img_h, img_w = image_shape\n",
    "    kernels = np.zeros((img_h, img_w, kersize, kersize))\n",
    "    cov_variable = np.zeros((img_h, img_w, 2, 2))\n",
    "\n",
    "    for i in range(img_h):\n",
    "        for j in range(img_w):\n",
    "            cov = np.zeros((2,2))\n",
    "            cov[0,0] = (i**2 + j**2)/img_h**2 + 1\n",
    "            cov[1,1] = 0.5*np.sqrt(i**2 + j**2)/img_h + 0.1\n",
    "            cov[1,0] = 0.3*(i**2 + j**2)/img_h**2\n",
    "            cov[0,1] = 0.3*(i**2 + j**2)/img_h**2\n",
    "            cov_variable[i,j] = cov\n",
    "            kernels[i, j] = gaussian_ker(kersize, cov=cov)\n",
    "\n",
    "    return kernels, cov_variable #KEEP TRACK OF THE COVARIANCE MATRIX AT EACH POINT\n",
    "\n",
    "kernels, covariances = example2_generate_variable_kernel(star_field.shape, 15)\n",
    "blurred_starfield = spatially_variant_convolution(star_field, kernels)\n",
    "\n",
    "known_positions = star_pos #shape (10,2)\n",
    "known_covariances = np.array([covariances[tuple(pos)] for pos in known_positions]) #shape (10,2,2)\n",
    "\n",
    "interpolated = interpolate_cov_field(known_positions, known_covariances, star_field.shape)"
   ]
  },
  {
   "cell_type": "code",
   "execution_count": null,
   "metadata": {},
   "outputs": [
    {
     "data": {
      "text/plain": [
       "0.013017272185993045"
      ]
     },
     "execution_count": 22,
     "metadata": {},
     "output_type": "execute_result"
    }
   ],
   "source": [
    "diff = interpolated-covariances\n",
    "errors = np.linalg.norm(diff, ord='fro', axis=(2,3))\n",
    "errors.mean()"
   ]
  },
  {
   "cell_type": "code",
   "execution_count": null,
   "metadata": {},
   "outputs": [
    {
     "data": {
      "text/plain": [
       "<matplotlib.image.AxesImage at 0x1c425b5e6b0>"
      ]
     },
     "execution_count": 24,
     "metadata": {},
     "output_type": "execute_result"
    },
    {
     "data": {
      "image/png": "[encoded data removed]",
      "text/plain": [
       "<Figure size 720x360 with 1 Axes>"
      ]
     },
     "metadata": {
      "needs_background": "light"
     },
     "output_type": "display_data"
    }
   ],
   "source": [
    "plt.figure(figsize=(10, 5))\n",
    "plt.imshow(blurred_starfield, cmap='gray')"
   ]
  },
  {
   "cell_type": "code",
   "execution_count": null,
   "metadata": {},
   "outputs": [
    {
     "data": {
      "text/plain": [
       "<matplotlib.image.AxesImage at 0x1c426351c60>"
      ]
     },
     "execution_count": 25,
     "metadata": {},
     "output_type": "execute_result"
    },
    {
     "data": {
      "image/png": "[encoded data removed]",
      "text/plain": [
       "<Figure size 720x360 with 1 Axes>"
      ]
     },
     "metadata": {
      "needs_background": "light"
     },
     "output_type": "display_data"
    }
   ],
   "source": [
    "plt.figure(figsize=(10, 5))\n",
    "plt.imshow(errors)"
   ]
  },
  {
   "cell_type": "markdown",
   "metadata": {},
   "source": [
    "Code qui prend une image et trouve les positions des étoiles"
   ]
  },
  {
   "cell_type": "code",
   "execution_count": 55,
   "metadata": {},
   "outputs": [],
   "source": [
    "from photutils.detection import DAOStarFinder, IRAFStarFinder\n",
    "\n",
    "def detect_stars(image, threshold=0.99):\n",
    "    \"\"\"Detect star in an image using DAOStarFinder.\n",
    "    \n",
    "    Inputs :\n",
    "    image : 2D array, the image.\n",
    "    threshold : float, the threshold for detection.\n",
    "    \n",
    "    Returns :\n",
    "    sources : Table, the detected stars\n",
    "    \"\"\"\n",
    "    \n",
    "    # Subtract the mean of the image\n",
    "    mean = np.mean(image)\n",
    "    image_subtracted = image - mean\n",
    "    # Setup the DAOStarFinder with appropriate threshold and FWHM\n",
    "    daofind = DAOStarFinder(threshold=threshold, fwhm=2, brightest=30) #3 because the image has been created with 3pixels FWHM\n",
    "    sources = daofind.find_stars(image_subtracted)\n",
    "    return sources"
   ]
  },
  {
   "cell_type": "code",
   "execution_count": 56,
   "metadata": {},
   "outputs": [
    {
     "data": {
      "text/plain": [
       "(725, 963)"
      ]
     },
     "execution_count": 56,
     "metadata": {},
     "output_type": "execute_result"
    }
   ],
   "source": [
    "real_image = cv2.imread('D:/Ecole/Git_deconvolution_astro/astro_deconvo/original_images/PXL-4-cropped.jpg', cv2.IMREAD_GRAYSCALE)\n",
    "real_image.shape"
   ]
  },
  {
   "cell_type": "code",
   "execution_count": 57,
   "metadata": {},
   "outputs": [],
   "source": [
    "from photutils.detection import DAOStarFinder, IRAFStarFinder\n",
    "import numpy as np\n",
    "\n",
    "def detect_stars(image, threshold=0.99, method=\"DAO\", fwhm=2, brightest=30):\n",
    "    \"\"\"\n",
    "    Detect stars in an image using DAOStarFinder or IRAFStarFinder.\n",
    "    \n",
    "    Parameters:\n",
    "    ----------\n",
    "    image : 2D array\n",
    "        The input image.\n",
    "    threshold : float, optional\n",
    "        The threshold for detection (default: 0.99).\n",
    "    method : str, optional\n",
    "        The method to use for star detection (\"DAO\" or \"IRAF\", default: \"DAO\").\n",
    "    fwhm : float, optional\n",
    "        Full width at half maximum of the stars (default: 2).\n",
    "    brightest : int, optional\n",
    "        Maximum number of brightest stars to detect (default: 30).\n",
    "    \n",
    "    Returns:\n",
    "    -------\n",
    "    detected_positions : ndarray\n",
    "        Array of shape (n_stars, 2) containing (y, x) coordinates of detected stars.\n",
    "    sources : Table\n",
    "        The full table of detected stars with additional information.\n",
    "    \"\"\"\n",
    "    # Subtract the mean of the image\n",
    "    mean = np.mean(image)\n",
    "    image_subtracted = image - mean\n",
    "    \n",
    "    # Choose the star finder method\n",
    "    if method == \"DAO\":\n",
    "        star_finder = DAOStarFinder(threshold=threshold, fwhm=fwhm, brightest=brightest)\n",
    "    elif method == \"IRAF\":\n",
    "        star_finder = IRAFStarFinder(threshold=threshold, fwhm=fwhm, brightest=brightest)\n",
    "    else:\n",
    "        raise ValueError(\"Invalid method. Choose 'DAO' or 'IRAF'.\")\n",
    "    \n",
    "    # Detect stars\n",
    "    sources = star_finder.find_stars(image_subtracted)\n",
    "    \n",
    "    # Extract (y, x) positions of detected stars\n",
    "    if sources is not None:\n",
    "        detected_positions = np.array([sources['ycentroid'], sources['xcentroid']]).T\n",
    "    else:\n",
    "        detected_positions = np.empty((0, 2))  # No stars detected\n",
    "    \n",
    "    return detected_positions, sources"
   ]
  },
  {
   "cell_type": "markdown",
   "metadata": {},
   "source": [
    "code to vizalize comparison between the two methods"
   ]
  },
  {
   "cell_type": "code",
   "execution_count": null,
   "metadata": {},
   "outputs": [
    {
     "name": "stdout",
     "output_type": "stream",
     "text": [
      "Image saved to detected_stars_comparison.png\n"
     ]
    }
   ],
   "source": [
    "import matplotlib.pyplot as plt\n",
    "from matplotlib.patches import Circle\n",
    "\n",
    "def visualize_detected_stars(real_image, dao_positions, iraf_positions, output_path=\"detected_stars_comparison.png\"):\n",
    "    \"\"\"\n",
    "    Visualize the detected stars from DAOStarFinder and IRAFStarFinder on the original image.\n",
    "    \n",
    "    Parameters:\n",
    "    ----------\n",
    "    real_image : ndarray\n",
    "        The original image.\n",
    "    dao_positions : ndarray\n",
    "        Array of shape (n_dao_stars, 2) with (y, x) coordinates of stars detected by DAOStarFinder.\n",
    "    iraf_positions : ndarray\n",
    "        Array of shape (n_iraf_stars, 2) with (y, x) coordinates of stars detected by IRAFStarFinder.\n",
    "    output_path : str, optional\n",
    "        Path to save the resulting image (default: \"detected_stars_comparison.png\").\n",
    "    \"\"\"\n",
    "    fig, ax = plt.subplots(figsize=(12, 12))\n",
    "    ax.imshow(real_image, cmap='gray', origin='lower')\n",
    "    \n",
    "    # Plot DAO detected stars in green\n",
    "    for pos in dao_positions:\n",
    "        circle = Circle((pos[1], pos[0]), radius=7, edgecolor='green', facecolor='none', lw=2, label='DAO Detected')\n",
    "        ax.add_patch(circle)\n",
    "    \n",
    "    # Plot IRAF detected stars in red\n",
    "    for pos in iraf_positions:\n",
    "        circle = Circle((pos[1], pos[0]), radius=13, edgecolor='red', facecolor='none', lw=2, label='IRAF Detected')\n",
    "        ax.add_patch(circle)\n",
    "    \n",
    "    # Add legend and labels\n",
    "    handles = [\n",
    "        Circle((0, 0), radius=7, edgecolor='green', facecolor='none', lw=2, label='DAO Detected'),\n",
    "        Circle((0, 0), radius=13, edgecolor='red', facecolor='none', lw=2, label='IRAF Detected')\n",
    "    ]\n",
    "    ax.legend(handles=handles, loc='upper right')\n",
    "    ax.set_title(\"Star Detection: DAO (Green) vs IRAF (Red)\")\n",
    "    ax.set_xlabel(\"X\")\n",
    "    ax.set_ylabel(\"Y\")\n",
    "    \n",
    "    # Save the image\n",
    "    plt.savefig(output_path, dpi=300)\n",
    "    print(f\"Image saved to {output_path}\")\n",
    "    plt.close(fig)\n",
    "\n",
    "# Example usage\n",
    "\n",
    "# Detect stars using DAOStarFinder\n",
    "dao_positions, dao_sources = detect_stars(real_image, threshold=0.99, method=\"DAO\")\n",
    "\n",
    "# Detect stars using IRAFStarFinder\n",
    "iraf_positions, iraf_sources = detect_stars(real_image, threshold=0.99, method=\"IRAF\")\n",
    "\n",
    "# Visualize and save the comparison\n",
    "visualize_detected_stars(real_image, dao_positions, iraf_positions, output_path=\"detected_stars_comparison.png\")"
   ]
  },
  {
   "cell_type": "markdown",
   "metadata": {},
   "source": [
    "We decided that DAO gives better results"
   ]
  },
  {
   "cell_type": "markdown",
   "metadata": {},
   "source": [
    "Code qui prend une image, la liste des pos des étoiles et renvoie la liste des cov"
   ]
  },
  {
   "cell_type": "code",
   "execution_count": 58,
   "metadata": {},
   "outputs": [],
   "source": [
    "def estimate_star_covariances(image, star_positions, patch_size=15):\n",
    "    \"\"\"\n",
    "    Estimate the covariance matrices of gaussian blur for each detected star.\n",
    "    \n",
    "    Parameters:\n",
    "    ----------\n",
    "    image : 2D array\n",
    "        The input image\n",
    "    star_positions : ndarray\n",
    "        Array of shape (n_stars, 2) containing (y, x) coordinates of detected stars\n",
    "    patch_size : int\n",
    "        Size of the patch around each star to analyze (should be odd)\n",
    "    \n",
    "    Returns:\n",
    "    -------\n",
    "    covariances : ndarray\n",
    "        Array of shape (n_stars, 2, 2) containing the covariance matrix for each star\n",
    "    \"\"\"\n",
    "    half_size = patch_size // 2\n",
    "    covariances = []\n",
    "    \n",
    "    for pos in star_positions:\n",
    "        y, x = int(pos[0]), int(pos[1])\n",
    "        \n",
    "        # Extract patch around the star\n",
    "        patch = image[max(0, y-half_size):min(image.shape[0], y+half_size+1),\n",
    "                     max(0, x-half_size):min(image.shape[1], x+half_size+1)]\n",
    "        \n",
    "        try:\n",
    "            # Get covariance matrix from moments\n",
    "            cov = estimate_gaussian_params(patch, cov=True)\n",
    "            covariances.append(cov)\n",
    "        except ValueError:\n",
    "            # If estimation fails, append identity matrix\n",
    "            covariances.append(np.eye(2))\n",
    "    \n",
    "    return np.array(covariances)"
   ]
  },
  {
   "cell_type": "markdown",
   "metadata": {},
   "source": [
    "EVALUATION : MESURE DES COVARIANCES vs COVARIANCES REELES image simulée, ker variable"
   ]
  },
  {
   "cell_type": "code",
   "execution_count": 61,
   "metadata": {},
   "outputs": [
    {
     "data": {
      "text/plain": [
       "<matplotlib.image.AxesImage at 0x1c423e57670>"
      ]
     },
     "execution_count": 61,
     "metadata": {},
     "output_type": "execute_result"
    },
    {
     "data": {
      "image/png": "[encoded data removed]",
      "text/plain": [
       "<Figure size 432x288 with 1 Axes>"
      ]
     },
     "metadata": {
      "needs_background": "light"
     },
     "output_type": "display_data"
    }
   ],
   "source": [
    "kernels, covariances = example2_generate_variable_kernel(star_field.shape, 15)\n",
    "blurred_starfield = spatially_variant_convolution(star_field, kernels)\n",
    "\n",
    "known_positions = star_pos #shape (10,2)\n",
    "known_covariances = np.array([covariances[tuple(pos)] for pos in known_positions]) #shape (10,2,2)\n",
    "\n",
    "plt.imshow(blurred_starfield, cmap='gray')"
   ]
  },
  {
   "cell_type": "code",
   "execution_count": 66,
   "metadata": {},
   "outputs": [],
   "source": [
    "estimated_covariances = estimate_star_covariances(blurred_starfield, known_positions, patch_size=8)"
   ]
  },
  {
   "cell_type": "code",
   "execution_count": 70,
   "metadata": {},
   "outputs": [
    {
     "data": {
      "text/plain": [
       "array([[9.66926688e-01, 3.88568022e+00, 1.71105006e+01, 8.08408422e+01],\n",
       "       [3.87790278e+00, 1.57427258e+01, 6.99242652e+01, 3.32939270e+02],\n",
       "       [1.60064234e+01, 6.56132034e+01, 2.93859599e+02, 1.40966897e+03],\n",
       "       [6.78458259e+01, 2.80722394e+02, 1.26737775e+03, 6.12382557e+03]])"
      ]
     },
     "execution_count": 70,
     "metadata": {},
     "output_type": "execute_result"
    }
   ],
   "source": [
    "estimated_covariances[0]"
   ]
  },
  {
   "cell_type": "code",
   "execution_count": 67,
   "metadata": {},
   "outputs": [
    {
     "data": {
      "text/plain": [
       "(10, 4, 4)"
      ]
     },
     "execution_count": 67,
     "metadata": {},
     "output_type": "execute_result"
    }
   ],
   "source": [
    "estimated_covariances.shape"
   ]
  },
  {
   "cell_type": "code",
   "execution_count": 64,
   "metadata": {},
   "outputs": [
    {
     "data": {
      "text/plain": [
       "<matplotlib.image.AxesImage at 0x1c423f62ad0>"
      ]
     },
     "execution_count": 64,
     "metadata": {},
     "output_type": "execute_result"
    },
    {
     "data": {
      "image/png": "[encoded data removed]",
      "text/plain": [
       "<Figure size 432x288 with 1 Axes>"
      ]
     },
     "metadata": {
      "needs_background": "light"
     },
     "output_type": "display_data"
    }
   ],
   "source": [
    "plt.imshow(star_field, cmap='gray')"
   ]
  },
  {
   "cell_type": "markdown",
   "metadata": {},
   "source": [
    "EVALUATION : INTERPOLATION DES COVARIANCES à partir des COVARIANCES MESUREES image simulée, ker variable"
   ]
  },
  {
   "cell_type": "code",
   "execution_count": null,
   "metadata": {},
   "outputs": [],
   "source": []
  }
 ],
 "metadata": {
  "kernelspec": {
   "display_name": "Python 3",
   "language": "python",
   "name": "python3"
  },
  "language_info": {
   "codemirror_mode": {
    "name": "ipython",
    "version": 3
   },
   "file_extension": ".py",
   "mimetype": "text/x-python",
   "name": "python",
   "nbconvert_exporter": "python",
   "pygments_lexer": "ipython3",
   "version": "3.10.0"
  }
 },
 "nbformat": 4,
 "nbformat_minor": 2
}
