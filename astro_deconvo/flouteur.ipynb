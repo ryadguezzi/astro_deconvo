{
 "cells": [
  {
   "cell_type": "code",
   "execution_count": 4,
   "metadata": {},
   "outputs": [],
   "source": [
    "import cv2\n",
    "import numpy as np\n",
    "from scipy.signal import correlate"
   ]
  },
  {
   "cell_type": "code",
   "execution_count": 18,
   "metadata": {},
   "outputs": [],
   "source": [
    "def blur(img, kernel):\n",
    "    '''\n",
    "    Floute une image avec noyau constant.\n",
    "\n",
    "    img: un tableau de shape height x width x 3\n",
    "    ker: un tableau qui peut avoir des dimensions différentes de l'image\n",
    "    '''\n",
    "    output = np.zeros(img.shape)\n",
    "    for i in range(img.shape[-1]):\n",
    "        output[:,:,i] = correlate(img[:,:,i], kernel, mode='same')\n",
    "    \n",
    "    return output"
   ]
  },
  {
   "cell_type": "code",
   "execution_count": null,
   "metadata": {},
   "outputs": [
    {
     "data": {
      "text/plain": [
       "array([[[ 3.,  3.,  3.],\n",
       "        [ 6.,  6.,  6.],\n",
       "        [ 6.,  6.,  6.],\n",
       "        [ 6.,  6.,  6.],\n",
       "        [ 6.,  6.,  6.],\n",
       "        [ 6.,  6.,  6.],\n",
       "        [ 6.,  6.,  6.],\n",
       "        [ 6.,  6.,  6.],\n",
       "        [ 6.,  6.,  6.],\n",
       "        [ 6.,  6.,  6.]],\n",
       "\n",
       "       [[ 4.,  4.,  4.],\n",
       "        [ 8.,  8.,  8.],\n",
       "        [ 8.,  8.,  8.],\n",
       "        [ 8.,  8.,  8.],\n",
       "        [ 8.,  8.,  8.],\n",
       "        [ 8.,  8.,  8.],\n",
       "        [ 8.,  8.,  8.],\n",
       "        [ 8.,  8.,  8.],\n",
       "        [ 8.,  8.,  8.],\n",
       "        [ 8.,  8.,  8.]],\n",
       "\n",
       "       [[ 5.,  5.,  5.],\n",
       "        [10., 10., 10.],\n",
       "        [10., 10., 10.],\n",
       "        [10., 10., 10.],\n",
       "        [10., 10., 10.],\n",
       "        [10., 10., 10.],\n",
       "        [10., 10., 10.],\n",
       "        [10., 10., 10.],\n",
       "        [10., 10., 10.],\n",
       "        [10., 10., 10.]],\n",
       "\n",
       "       [[ 5.,  5.,  5.],\n",
       "        [10., 10., 10.],\n",
       "        [10., 10., 10.],\n",
       "        [10., 10., 10.],\n",
       "        [10., 10., 10.],\n",
       "        [10., 10., 10.],\n",
       "        [10., 10., 10.],\n",
       "        [10., 10., 10.],\n",
       "        [10., 10., 10.],\n",
       "        [10., 10., 10.]],\n",
       "\n",
       "       [[ 5.,  5.,  5.],\n",
       "        [10., 10., 10.],\n",
       "        [10., 10., 10.],\n",
       "        [10., 10., 10.],\n",
       "        [10., 10., 10.],\n",
       "        [10., 10., 10.],\n",
       "        [10., 10., 10.],\n",
       "        [10., 10., 10.],\n",
       "        [10., 10., 10.],\n",
       "        [10., 10., 10.]],\n",
       "\n",
       "       [[ 5.,  5.,  5.],\n",
       "        [10., 10., 10.],\n",
       "        [10., 10., 10.],\n",
       "        [10., 10., 10.],\n",
       "        [10., 10., 10.],\n",
       "        [10., 10., 10.],\n",
       "        [10., 10., 10.],\n",
       "        [10., 10., 10.],\n",
       "        [10., 10., 10.],\n",
       "        [10., 10., 10.]],\n",
       "\n",
       "       [[ 5.,  5.,  5.],\n",
       "        [10., 10., 10.],\n",
       "        [10., 10., 10.],\n",
       "        [10., 10., 10.],\n",
       "        [10., 10., 10.],\n",
       "        [10., 10., 10.],\n",
       "        [10., 10., 10.],\n",
       "        [10., 10., 10.],\n",
       "        [10., 10., 10.],\n",
       "        [10., 10., 10.]],\n",
       "\n",
       "       [[ 5.,  5.,  5.],\n",
       "        [10., 10., 10.],\n",
       "        [10., 10., 10.],\n",
       "        [10., 10., 10.],\n",
       "        [10., 10., 10.],\n",
       "        [10., 10., 10.],\n",
       "        [10., 10., 10.],\n",
       "        [10., 10., 10.],\n",
       "        [10., 10., 10.],\n",
       "        [10., 10., 10.]],\n",
       "\n",
       "       [[ 4.,  4.,  4.],\n",
       "        [ 8.,  8.,  8.],\n",
       "        [ 8.,  8.,  8.],\n",
       "        [ 8.,  8.,  8.],\n",
       "        [ 8.,  8.,  8.],\n",
       "        [ 8.,  8.,  8.],\n",
       "        [ 8.,  8.,  8.],\n",
       "        [ 8.,  8.,  8.],\n",
       "        [ 8.,  8.,  8.],\n",
       "        [ 8.,  8.,  8.]],\n",
       "\n",
       "       [[ 3.,  3.,  3.],\n",
       "        [ 6.,  6.,  6.],\n",
       "        [ 6.,  6.,  6.],\n",
       "        [ 6.,  6.,  6.],\n",
       "        [ 6.,  6.,  6.],\n",
       "        [ 6.,  6.,  6.],\n",
       "        [ 6.,  6.,  6.],\n",
       "        [ 6.,  6.,  6.],\n",
       "        [ 6.,  6.,  6.],\n",
       "        [ 6.,  6.,  6.]]])"
      ]
     },
     "execution_count": 20,
     "metadata": {},
     "output_type": "execute_result"
    }
   ],
   "source": [
    "test = np.ones((10,10,3))\n",
    "ker_test = np.ones((5,2))\n",
    "blur(test,ker_test)"
   ]
  },
  {
   "cell_type": "code",
   "execution_count": null,
   "metadata": {},
   "outputs": [],
   "source": [
    "def to_polar(img, center = [0,0]):\n",
    "    result = np.zeros(())\n",
    "\n",
    "def circonvolution(img, ker, center = [0,0]):\n",
    "    \"\"\"\n",
    "    Circular convolution of an image img with ker, a circular kernel.\n",
    "    Arguments:\n",
    "    - img : array of size h x w x 3\n",
    "    - ker : array of size kh x kw; in R, theta coordinates\n",
    "    - center : array of size 2\n",
    "    \"\"\"\n",
    "    result_polar = np.zeros(img.shape)\n",
    "    "
   ]
  },
  {
   "cell_type": "code",
   "execution_count": 73,
   "metadata": {},
   "outputs": [],
   "source": [
    "def radial_ellipse_blur(image, center, distortion_factor=-0.5, blur_kernel=0):\n",
    "    \"\"\"    \n",
    "    Parameters:\n",
    "    - image: Input image (numpy array).\n",
    "    - center: Tuple (x, y) defining the center of radial distortion.\n",
    "    - distortion_factor: Factor by which circles turn into ellipses.\n",
    "    - blur_kernel: Kernel size for Gaussian blur.\n",
    "    \n",
    "    Returns:\n",
    "    - Transformed image.\n",
    "    \"\"\"\n",
    "    h, w = image.shape[:2]\n",
    "    y_indices, x_indices = np.indices((h, w))\n",
    "    \n",
    "    dx = x_indices - center[0]\n",
    "    dy = y_indices - center[1]\n",
    "    \n",
    "    r = np.sqrt(dx**2 + dy**2) + 1e-6  # Avoid division by zero\n",
    "    theta = np.arctan2(dy, dx)\n",
    "    \n",
    "    new_r = r * (1 + distortion_factor)  # Stretching\n",
    "    \n",
    "    new_x = (new_r * np.cos(theta) + center[0]).astype(np.float32)\n",
    "    new_y = (new_r * np.sin(theta) + center[1]).astype(np.float32)\n",
    "    \n",
    "    distorted_img = cv2.remap(image, new_x, new_y, interpolation=cv2.INTER_LINEAR)\n",
    "    \n",
    "    # blurred_img = cv2.GaussianBlur(distorted_img, (blur_kernel, blur_kernel), 0)\n",
    "    \n",
    "    return distorted_img"
   ]
  },
  {
   "cell_type": "code",
   "execution_count": 70,
   "metadata": {},
   "outputs": [],
   "source": [
    "def transform_image(image, f):\n",
    "    '''\n",
    "    Crée une image transformed de sorte que transformed(x,y) = image(f(x,y)).\n",
    "    f peut même prendre des valeurs non entières\n",
    "    '''\n",
    "    h, w = image.shape[:2]\n",
    "    y_indices, x_indices = np.indices((h, w))\n",
    "\n",
    "    new_x, new_y = f(x_indices, y_indices)\n",
    "\n",
    "    # Restreint les coordonées aux limites\n",
    "    new_x = np.clip(new_x, 0, w - 1).astype(np.float32)\n",
    "    new_y = np.clip(new_y, 0, h - 1).astype(np.float32)\n",
    "\n",
    "    transformed = cv2.remap(image, new_x, new_y, interpolation=cv2.INTER_LINEAR, borderMode=cv2.BORDER_REFLECT)\n",
    "    return transformed"
   ]
  },
  {
   "cell_type": "code",
   "execution_count": 84,
   "metadata": {},
   "outputs": [],
   "source": [
    "def circular_motion_blur(image, center=(0, 0), angle_range=30, num_steps=30):\n",
    "    acc = np.zeros_like(image, dtype=np.float32)\n",
    "    angles = np.linspace(-angle_range / 2, angle_range / 2, num_steps)\n",
    "    for angle in angles:\n",
    "        M = cv2.getRotationMatrix2D(center, angle, 1)\n",
    "        rotated = cv2.warpAffine(image, M, (image.shape[1], image.shape[0]),\n",
    "                                 flags=cv2.INTER_LINEAR, borderMode=cv2.BORDER_REFLECT)\n",
    "        acc += rotated.astype(np.float32)\n",
    "    blurred = (acc / num_steps).astype(image.dtype)\n",
    "    return blurred"
   ]
  },
  {
   "cell_type": "code",
   "execution_count": 100,
   "metadata": {},
   "outputs": [
    {
     "data": {
      "text/plain": [
       "<matplotlib.image.AxesImage at 0x253152e2b60>"
      ]
     },
     "execution_count": 100,
     "metadata": {},
     "output_type": "execute_result"
    },
    {
     "data": {
      "image/png": "[encoded data removed]",
      "text/plain": [
       "<Figure size 432x288 with 1 Axes>"
      ]
     },
     "metadata": {
      "needs_background": "light"
     },
     "output_type": "display_data"
    }
   ],
   "source": [
    "from matplotlib import pyplot as plt\n",
    "\n",
    "image = cv2.imread(\"D:\\Ecole\\Git_deconvolution_astro\\\\astro_deconvo\\original_images\\PXL-4-cropped.jpg\")\n",
    "image = cv2.imread(\"D:\\Ecole\\Git_deconvolution_astro\\\\astro_deconvo\\original_images\\python_generated\\generated_1.jpg\")\n",
    "\n",
    "output = circular_motion_blur(image, angle_range=4)\n",
    "plt.imshow(output)"
   ]
  },
  {
   "cell_type": "code",
   "execution_count": 58,
   "metadata": {},
   "outputs": [
    {
     "data": {
      "text/plain": [
       "<matplotlib.image.AxesImage at 0x253294c4580>"
      ]
     },
     "execution_count": 58,
     "metadata": {},
     "output_type": "execute_result"
    },
    {
     "data": {
      "image/png": "[encoded data removed]",
      "text/plain": [
       "<Figure size 432x288 with 1 Axes>"
      ]
     },
     "metadata": {
      "needs_background": "light"
     },
     "output_type": "display_data"
    }
   ],
   "source": [
    "plt.imshow(image)"
   ]
  },
  {
   "cell_type": "code",
   "execution_count": 101,
   "metadata": {},
   "outputs": [
    {
     "data": {
      "text/plain": [
       "True"
      ]
     },
     "execution_count": 101,
     "metadata": {},
     "output_type": "execute_result"
    }
   ],
   "source": [
    "cv2.imwrite('D:\\Ecole\\Git_deconvolution_astro\\\\astro_deconvo\\original_images\\python_generated\\\\1-rotation_blur.jpg', output)"
   ]
  },
  {
   "cell_type": "code",
   "execution_count": 96,
   "metadata": {},
   "outputs": [],
   "source": [
    "from skimage.transform import resize\n",
    "from scipy.signal import convolve2d\n",
    "\n",
    "def generate_radial_psf(image_shape, radial_function, normalize=True):\n",
    "    \"\"\"\n",
    "    Comppute radial PSF.\n",
    "\n",
    "    Inputs:\n",
    "    image_shape : tuple, shape of the image.\n",
    "    radial_function : function, function defining the radial dependence of the PSF.\n",
    "    normalize : bool, normalize the PSF so that the sum = 1.\n",
    "\n",
    "    Returns :\n",
    "    psf : 2D array of shape image_shape representing the radial PSF.\n",
    "    \"\"\"\n",
    "    h, w = image_shape\n",
    "    y, x = np.meshgrid(np.linspace(-h//2, h//2, h), np.linspace(-w//2, w//2, w), indexing='ij')\n",
    "\n",
    "    r = np.sqrt(x**2 + y**2)\n",
    "    psf = radial_function(r) #for example lambda r: np.exp(-r**2 / (2 * sigma**2)) for gaussian psf\n",
    "    if normalize:\n",
    "        psf /= np.sum(psf)\n",
    "    return psf\n",
    "\n",
    "def moffat_psf(image_shape, alpha=3, beta=2.5, normalize=True):\n",
    "    \"\"\"\n",
    "    Compute Moffat PSF.\n",
    "\n",
    "    Inputs:\n",
    "    image_shape : tuple, shape of the image.\n",
    "    alpha : float, width parameter of the PSF (related to the FWHM).\n",
    "    beta : float, parameter of the PSF wing decay.\n",
    "    normalize : bool, normalize the PSF so that the sum = 1.\n",
    "\n",
    "    Returns :\n",
    "    psf : 2D array of shape image_shape representing the Moffat PSF.\n",
    "    \"\"\"\n",
    "    h, w = image_shape[:2]\n",
    "    \n",
    "    y, x = np.meshgrid(np.linspace(-h//2, h//2, h), np.linspace(-w//2, w//2, w), indexing='ij')\n",
    "    r2 = x**2 + y**2\n",
    "    \n",
    "    psf = (1 + r2 / alpha**2) ** -beta\n",
    "    if normalize:\n",
    "        psf /= np.sum(psf)\n",
    "    return psf\n",
    "\n",
    "def resize_image(image, target_size=(255, 255)):\n",
    "    \"\"\"\n",
    "    Resize image to target size.\n",
    "\n",
    "    Inputs:\n",
    "    image : 2D array\n",
    "    target_size : tuple, new size of the image (height, width).\n",
    "\n",
    "    Returns :\n",
    "    resized_image : resized 2D array.\n",
    "    \"\"\"\n",
    "    if image.shape[:2] != target_size:\n",
    "        resized_image = resize(image, target_size, preserve_range=True, anti_aliasing=True)\n",
    "        return resized_image.astype(image.dtype)\n",
    "    return image\n",
    "\n",
    "def create_blurred_image(image, psf, target_size = (128, 128), mode = \"same\"):\n",
    "    \"\"\"Create a blurred image by convolving the image with the PSF.\n",
    "    \n",
    "    Inputs :\n",
    "    image : 2D array, the original image.\n",
    "    psf : 2D array, the point spread function.\n",
    "    target_size : tuple, size of the target image (default = (128, 128)).\n",
    "    mode : str, mode of the convolution (default = 'same').\n",
    "    \n",
    "    Returns :\n",
    "    blurred_image : 2D array, the blurred image.\n",
    "    \"\"\"\n",
    "    resized_image = resize_image(image, target_size)\n",
    "    if resized_image.ndim == 3:\n",
    "        resized_image = np.mean(resized_image, axis=2)\n",
    "    blurred_image = convolve2d(resized_image, psf, mode=mode)\n",
    "    return blurred_image"
   ]
  },
  {
   "cell_type": "code",
   "execution_count": null,
   "metadata": {},
   "outputs": [
    {
     "data": {
      "text/plain": [
       "<matplotlib.image.AxesImage at 0x2531305ea40>"
      ]
     },
     "execution_count": 97,
     "metadata": {},
     "output_type": "execute_result"
    },
    {
     "data": {
      "image/png": "[encoded data removed]",
      "text/plain": [
       "<Figure size 432x288 with 1 Axes>"
      ]
     },
     "metadata": {
      "needs_background": "light"
     },
     "output_type": "display_data"
    }
   ],
   "source": [
    "img = cv2.imread(\"D:\\Ecole\\Git_deconvolution_astro\\\\astro_deconvo\\original_images\\python_generated\\generated_1.jpg\")\n",
    "psf = moffat_psf(img.shape,)\n",
    "output = create_blurred_image(img, psf)\n",
    "plt.imshow(output, cmap=)"
   ]
  },
  {
   "cell_type": "code",
   "execution_count": 99,
   "metadata": {},
   "outputs": [
    {
     "data": {
      "text/plain": [
       "True"
      ]
     },
     "execution_count": 99,
     "metadata": {},
     "output_type": "execute_result"
    }
   ],
   "source": [
    "cv2.imwrite('D:\\Ecole\\Git_deconvolution_astro\\\\astro_deconvo\\original_images\\python_generated\\\\1-moffat_blur.jpg', output)"
   ]
  },
  {
   "cell_type": "code",
   "execution_count": null,
   "metadata": {},
   "outputs": [],
   "source": []
  }
 ],
 "metadata": {
  "kernelspec": {
   "display_name": "Python 3",
   "language": "python",
   "name": "python3"
  },
  "language_info": {
   "codemirror_mode": {
    "name": "ipython",
    "version": 3
   },
   "file_extension": ".py",
   "mimetype": "text/x-python",
   "name": "python",
   "nbconvert_exporter": "python",
   "pygments_lexer": "ipython3",
   "version": "3.10.0"
  }
 },
 "nbformat": 4,
 "nbformat_minor": 2
}
