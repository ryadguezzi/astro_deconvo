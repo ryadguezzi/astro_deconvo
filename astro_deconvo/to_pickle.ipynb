{
 "cells": [
  {
   "cell_type": "code",
   "execution_count": 42,
   "metadata": {},
   "outputs": [],
   "source": [
    "import os\n",
    "import pickle\n",
    "import torch\n",
    "import numpy as np\n",
    "\n",
    "# Path to a correct .pickle file (template)\n",
    "correct_pickle_path = r\"D:\\Ecole\\Git_deconvolution_astro\\astro_deconvo\\FastDiffusionEM-main\\testset\\1.pickle\"\n",
    "\n",
    "# Directory containing the corrupted .pickle files\n",
    "broken_dir = r\"D:\\Ecole\\Git_deconvolution_astro\\astro_deconvo\\original_images\\to_try\"\n",
    "\n",
    "# Load the correct format as a reference\n",
    "with open(correct_pickle_path, \"rb\") as f:\n",
    "    correct_sample = pickle.load(f)\n",
    "\n",
    "# Extract a valid H, kernel, and sigma from the correct file\n",
    "correct_kernel = correct_sample[\"kernel\"]\n",
    "correct_sigma = correct_sample[\"sigma\"]"
   ]
  },
  {
   "cell_type": "code",
   "execution_count": null,
   "metadata": {},
   "outputs": [],
   "source": [
    "# from matplotlib import pyplot as plt\n",
    "\n",
    "# with open(\"../img_original_papier.pickle\", \"rb\") as f:\n",
    "#     rawfile = pickle.load(f)\n",
    "\n",
    "# for k in rawfile:\n",
    "#     try: \n",
    "#         image  = rawfile[k].cpu().numpy()[0]\n",
    "#         image[[1,2]] = image[[2,1]]\n",
    "#         image = (image.swapaxes(0,2).swapaxes(0,1)*255.0).astype(np.uint8)\n",
    "#         plt.imshow(image, interpolation='hermite')\n",
    "#         plt.show()\n",
    "#     # cv2.imwrite(f\"image_original_{k}.png\", image)\n",
    "#     except:\n",
    "#         print(k)\n",
    "#         try:\n",
    "#             image  = rawfile[k].cpu().numpy()*255.0\n",
    "#             image = image/image.max()\n",
    "#             # image[[1,2]] = image[[2,1]]\n",
    "#             # image = (image.swapaxes(0,2).swapaxes(0,1)*255.0).astype(np.uint8)\n",
    "#             plt.imshow(image, interpolation='hermite')\n",
    "#             plt.show()\n",
    "#         except:\n",
    "#             pass"
   ]
  },
  {
   "cell_type": "code",
   "execution_count": 99,
   "metadata": {},
   "outputs": [
    {
     "name": "stdout",
     "output_type": "stream",
     "text": [
      "Saved pickle: pickled_images\\pickled_1-moffat_blur.pickle\n",
      "Saved pickle: pickled_images\\pickled_1-rotation_blur.pickle\n",
      "Saved pickle: pickled_images\\pickled_new_ker_generated.pickle\n",
      "Saved pickle: pickled_images\\pickled_output_long_exposure (1).pickle\n",
      "Saved pickle: pickled_images\\pickled_PXL-2.pickle\n"
     ]
    }
   ],
   "source": [
    "# Process original images, converting them to .pickle files with an a priori kernel and sigma taken from the examples...\n",
    "import cv2\n",
    "\n",
    "to_pickle_dir = \"D:\\Ecole\\Git_deconvolution_astro\\\\astro_deconvo\\original_images\\\\to_try\"\n",
    "pickled_dir = 'pickled_images'\n",
    "\n",
    "for filename in os.listdir(to_pickle_dir):\n",
    "    if filename.lower().endswith((\".png\", \".jpg\", \".jpeg\")):\n",
    "        original_image_path = os.path.join(to_pickle_dir, filename)\n",
    "        try:\n",
    "            # Chargement de l'image\n",
    "            img = cv2.imread(original_image_path)\n",
    "            if img is None:\n",
    "                print(f\"Error: Could not load {filename}\")\n",
    "                continue\n",
    "\n",
    "            # Redimensionner l'image à 256x256\n",
    "            img_low_res = cv2.resize(img, (256, 256), interpolation=cv2.INTER_AREA)\n",
    "\n",
    "            # Conversion en float32 dans l'intervalle [0, 1]\n",
    "            img_array = img_low_res.astype(np.float32) / 255.0\n",
    "\n",
    "            # Sauvegarde de l'image redimensionnée pour vérification\n",
    "            # lowres_path = os.path.join(pickled_dir, \"lowres_\" + filename)\n",
    "            # cv2.imwrite(lowres_path, (img_array * 255).astype(np.uint8))\n",
    "            # print(f\"Saved resized image: {lowres_path}\")\n",
    "\n",
    "            # Conversion de l'image en torch.Tensor de taille [1, 3, 256, 256]\n",
    "            L = torch.tensor(img_array).permute(2, 0, 1).unsqueeze(0)\n",
    "            H = L.clone()\n",
    "\n",
    "            # Construction du dictionnaire à pickle\n",
    "            fixed_sample = {\n",
    "                \"L\": L,            # Image d'entrée\n",
    "                \"H\": H,            # Même chose que L pour l'instant\n",
    "                \"kernel\": correct_kernel,  # Kernel de référence\n",
    "                \"sigma\": correct_sigma,    # Sigma de référence\n",
    "            }\n",
    "\n",
    "            # Sauvegarde du fichier .pickle\n",
    "            fixed_path = os.path.join(pickled_dir, f\"pickled_{filename[:-4]}.pickle\")\n",
    "            with open(fixed_path, \"wb\") as f:\n",
    "                pickle.dump(fixed_sample, f)\n",
    "            print(f\"Saved pickle: {fixed_path}\")\n",
    "\n",
    "        except Exception as e:\n",
    "            print(f\"Error processing {filename}: {e}\")\n",
    "\n",
    "# for filename in os.listdir(to_pickle_dir):\n",
    "#     if filename.endswith((\".png\", \".jpg\", \".jpeg\")):\n",
    "#         original_image_path = os.path.join(to_pickle_dir, filename)\n",
    "\n",
    "#         try:\n",
    "#             # Load the image\n",
    "#             img = cv2.imread(original_image_path)\n",
    "#             if img is None:\n",
    "#                 print(f\"Error: Could not load {filename}\")\n",
    "#                 continue\n",
    "\n",
    "#             # Resize the image to 256x256\n",
    "#             img_low_res = cv2.resize(img, (256, 256), interpolation=cv2.INTER_AREA)\n",
    "\n",
    "#             # Convert to float32 in range [0,1]\n",
    "#             img_array = img_low_res.astype(np.float32) / 255.0\n",
    "\n",
    "#             # Save resized image (convert back to uint8)\n",
    "#             lowres_path = os.path.join(pickled_dir, \"lowres_\" + filename)\n",
    "#             cv2.imwrite(lowres_path, (img_array * 255).astype(np.uint8))\n",
    "#             print(f\"Saved resized image: {lowres_path}\")\n",
    "\n",
    "#             # Convert data into a torch.Tensor\n",
    "#             L = torch.tensor(img_array).permute(2, 0, 1)  # Change to (C, H, W) format\n",
    "#             H = L.clone()  # Create a copy\n",
    "\n",
    "#             # Construct the dictionary to pickle\n",
    "#             fixed_sample = {\n",
    "#                 \"L\": L.unsqueeze(0),  # Input image\n",
    "#                 \"H\": H.unsqueeze(0),  # Same as L for now\n",
    "#                 \"kernel\": correct_kernel,  # Reference kernel\n",
    "#                 \"sigma\": correct_sigma,    # Reference sigma\n",
    "#             }\n",
    "\n",
    "#             # Save the .pickle file\n",
    "#             fixed_path = os.path.join(pickled_dir, f\"pickled_{filename[:-4]}.pickle\")\n",
    "#             with open(fixed_path, \"wb\") as f:\n",
    "#                 pickle.dump(fixed_sample, f)\n",
    "\n",
    "#             print(f\"Saved pickle: {fixed_path}\")\n",
    "\n",
    "#         except Exception as e:\n",
    "#             print(f\"Error fixing {filename}: {e}\")\n"
   ]
  },
  {
   "cell_type": "code",
   "execution_count": 93,
   "metadata": {},
   "outputs": [
    {
     "data": {
      "text/plain": [
       "dict_keys(['H', 'L', 'sigma', 'kernel'])"
      ]
     },
     "execution_count": 93,
     "metadata": {},
     "output_type": "execute_result"
    }
   ],
   "source": [
    "with open(\"D:\\Ecole\\Git_deconvolution_astro\\\\astro_deconvo\\FastDiffusionEM-main\\\\testset\\\\0.pickle\", \"rb\") as f:\n",
    "    sample2 = pickle.load(f)\n",
    "\n",
    "sample2.keys()"
   ]
  },
  {
   "cell_type": "code",
   "execution_count": 100,
   "metadata": {},
   "outputs": [
    {
     "data": {
      "text/plain": [
       "0.0392156862745098"
      ]
     },
     "execution_count": 100,
     "metadata": {},
     "output_type": "execute_result"
    }
   ],
   "source": [
    "sample1['sigma']"
   ]
  },
  {
   "cell_type": "code",
   "execution_count": 95,
   "metadata": {},
   "outputs": [
    {
     "data": {
      "text/plain": [
       "torch.Size([1, 3, 256, 256])"
      ]
     },
     "execution_count": 95,
     "metadata": {},
     "output_type": "execute_result"
    }
   ],
   "source": [
    "sample2['L'].shape"
   ]
  }
 ],
 "metadata": {
  "kernelspec": {
   "display_name": "Python 3",
   "language": "python",
   "name": "python3"
  },
  "language_info": {
   "codemirror_mode": {
    "name": "ipython",
    "version": 3
   },
   "file_extension": ".py",
   "mimetype": "text/x-python",
   "name": "python",
   "nbconvert_exporter": "python",
   "pygments_lexer": "ipython3",
   "version": "3.10.0"
  }
 },
 "nbformat": 4,
 "nbformat_minor": 2
}
